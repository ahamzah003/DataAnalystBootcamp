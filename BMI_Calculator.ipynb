{
 "cells": [
  {
   "cell_type": "markdown",
   "id": "9c68d910",
   "metadata": {},
   "source": [
    "## Project Description:\n",
    "A BMI Calculator that accepts the user 'name', 'weight', and 'height' as inputs, and prints the BMI result and it's classification."
   ]
  },
  {
   "cell_type": "markdown",
   "id": "74e5b460",
   "metadata": {},
   "source": [
    "### Code:"
   ]
  },
  {
   "cell_type": "code",
   "execution_count": 1,
   "id": "59b62b55",
   "metadata": {},
   "outputs": [
    {
     "name": "stdout",
     "output_type": "stream",
     "text": [
      "Enter your name: Jay\n",
      "Enter your weight in pounds: 300\n",
      "Enter your height in inches: 67\n",
      "46.84785030073513\n",
      "Jay, you're morbidly obese.\n",
      "Health Risk: Extremely High\n"
     ]
    }
   ],
   "source": [
    "# name input\n",
    "name = input(\"Enter your name: \")\n",
    "# weight input\n",
    "weight = int(input(\"Enter your weight in pounds: \"))\n",
    "# height input\n",
    "height = int(input(\"Enter your height in inches: \"))\n",
    "# calculate BMI\n",
    "BMI = (weight * 701)/(height**2)\n",
    "print(BMI)\n",
    "# if-else logic for BMI classification\n",
    "if BMI > 0:\n",
    "    if (BMI < 18.5):\n",
    "        print(name +\", you're underweight.\\nHealth Risk: Minimal\")\n",
    "    elif (BMI <= 24.9):\n",
    "        print(name +\", you're normal weight.\\nHealth Risk: Minimal\")\n",
    "    elif (BMI <= 29.9):\n",
    "        print(name +\", you're overweight.\\nHealth Risk: Increased\")\n",
    "    elif (BMI <= 34.9):\n",
    "        print(name +\", you're obese.\\nHealth Risk: High\")\n",
    "    elif (BMI <= 39.9):\n",
    "        print(name +\", you're severely obese.\\nHealth Risk: Very High\")\n",
    "    else:\n",
    "        print(name +\", you're morbidly obese.\\nHealth Risk: Extremely High\")\n",
    "else:\n",
    "    print(\"Enter valid input.\")"
   ]
  },
  {
   "cell_type": "code",
   "execution_count": null,
   "id": "739245c9",
   "metadata": {},
   "outputs": [],
   "source": []
  },
  {
   "cell_type": "code",
   "execution_count": null,
   "id": "c7730043",
   "metadata": {},
   "outputs": [],
   "source": []
  },
  {
   "cell_type": "code",
   "execution_count": null,
   "id": "297e4a38",
   "metadata": {},
   "outputs": [],
   "source": []
  },
  {
   "cell_type": "code",
   "execution_count": null,
   "id": "5f5cb53d",
   "metadata": {},
   "outputs": [],
   "source": []
  },
  {
   "cell_type": "code",
   "execution_count": null,
   "id": "d45e01aa",
   "metadata": {},
   "outputs": [],
   "source": []
  },
  {
   "cell_type": "code",
   "execution_count": null,
   "id": "103d6b1a",
   "metadata": {},
   "outputs": [],
   "source": []
  },
  {
   "cell_type": "code",
   "execution_count": null,
   "id": "65fcfce7",
   "metadata": {},
   "outputs": [],
   "source": []
  },
  {
   "cell_type": "code",
   "execution_count": null,
   "id": "97336474",
   "metadata": {},
   "outputs": [],
   "source": []
  },
  {
   "cell_type": "code",
   "execution_count": null,
   "id": "51d88725",
   "metadata": {},
   "outputs": [],
   "source": []
  },
  {
   "cell_type": "code",
   "execution_count": null,
   "id": "b590d1f6",
   "metadata": {},
   "outputs": [],
   "source": []
  }
 ],
 "metadata": {
  "kernelspec": {
   "display_name": "Python 3 (ipykernel)",
   "language": "python",
   "name": "python3"
  },
  "language_info": {
   "codemirror_mode": {
    "name": "ipython",
    "version": 3
   },
   "file_extension": ".py",
   "mimetype": "text/x-python",
   "name": "python",
   "nbconvert_exporter": "python",
   "pygments_lexer": "ipython3",
   "version": "3.9.13"
  }
 },
 "nbformat": 4,
 "nbformat_minor": 5
}
