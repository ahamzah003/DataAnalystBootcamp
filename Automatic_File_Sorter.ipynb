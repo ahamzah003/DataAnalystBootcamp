{
 "cells": [
  {
   "cell_type": "code",
   "execution_count": 1,
   "id": "1bd83844",
   "metadata": {},
   "outputs": [],
   "source": [
    "# imports\n",
    "import os, shutil"
   ]
  },
  {
   "cell_type": "code",
   "execution_count": 2,
   "id": "2a02913a",
   "metadata": {},
   "outputs": [],
   "source": [
    "# set path\n",
    "path = r\"C:/Users/SNT/Documents/analyst/alex-the-analyst/python_project/Files\""
   ]
  },
  {
   "cell_type": "code",
   "execution_count": 3,
   "id": "8e44f3c8",
   "metadata": {},
   "outputs": [
    {
     "data": {
      "text/plain": [
       "['data-center-room-with-abstract-data-servers-glowing-led-indicators.jpg',\n",
       " 'if BMI  0.txt',\n",
       " 'layoff.jpeg',\n",
       " 'layoffs.csv']"
      ]
     },
     "execution_count": 3,
     "metadata": {},
     "output_type": "execute_result"
    }
   ],
   "source": [
    "os.listdir(path)"
   ]
  },
  {
   "cell_type": "code",
   "execution_count": null,
   "id": "56184a9f",
   "metadata": {},
   "outputs": [],
   "source": [
    "folder_names = ['csv_files', 'txt_files', 'img_files']\n",
    "\n",
    "for folder_index in range(0,3):\n",
    "    if not os.path.exists(path + \"/\" + folder_names[folder_index]):\n",
    "        print(path + \"/\" + folder_names[folder_index])\n",
    "        os.makedirs((path + folder_names[folder_index]))"
   ]
  },
  {
   "cell_type": "code",
   "execution_count": null,
   "id": "7aea0a45",
   "metadata": {},
   "outputs": [],
   "source": []
  },
  {
   "cell_type": "code",
   "execution_count": null,
   "id": "be015ef0",
   "metadata": {},
   "outputs": [],
   "source": []
  },
  {
   "cell_type": "code",
   "execution_count": null,
   "id": "f8ba7bc5",
   "metadata": {},
   "outputs": [],
   "source": []
  },
  {
   "cell_type": "code",
   "execution_count": null,
   "id": "433a2357",
   "metadata": {},
   "outputs": [],
   "source": []
  },
  {
   "cell_type": "code",
   "execution_count": null,
   "id": "b96e160c",
   "metadata": {},
   "outputs": [],
   "source": []
  },
  {
   "cell_type": "code",
   "execution_count": null,
   "id": "db6edef4",
   "metadata": {},
   "outputs": [],
   "source": []
  },
  {
   "cell_type": "code",
   "execution_count": null,
   "id": "75f2ecb1",
   "metadata": {},
   "outputs": [],
   "source": []
  },
  {
   "cell_type": "code",
   "execution_count": null,
   "id": "7e49331d",
   "metadata": {},
   "outputs": [],
   "source": []
  }
 ],
 "metadata": {
  "kernelspec": {
   "display_name": "Python 3 (ipykernel)",
   "language": "python",
   "name": "python3"
  },
  "language_info": {
   "codemirror_mode": {
    "name": "ipython",
    "version": 3
   },
   "file_extension": ".py",
   "mimetype": "text/x-python",
   "name": "python",
   "nbconvert_exporter": "python",
   "pygments_lexer": "ipython3",
   "version": "3.9.13"
  }
 },
 "nbformat": 4,
 "nbformat_minor": 5
}
