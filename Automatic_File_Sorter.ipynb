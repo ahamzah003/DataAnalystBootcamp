{
 "cells": [
  {
   "cell_type": "code",
   "execution_count": 1,
   "id": "a5f9c52e",
   "metadata": {},
   "outputs": [],
   "source": [
    "# imports\n",
    "import os, shutil"
   ]
  },
  {
   "cell_type": "code",
   "execution_count": 4,
   "id": "56294f1f",
   "metadata": {},
   "outputs": [],
   "source": [
    "# set path\n",
    "path = r\"C:/Users/SNT/Documents/analyst/alex-the-analyst/python_project/Files\""
   ]
  },
  {
   "cell_type": "code",
   "execution_count": 5,
   "id": "4caed50b",
   "metadata": {},
   "outputs": [
    {
     "data": {
      "text/plain": [
       "['data-center-room-with-abstract-data-servers-glowing-led-indicators.jpg',\n",
       " 'if BMI  0.txt',\n",
       " 'layoff.jpeg',\n",
       " 'layoffs.csv']"
      ]
     },
     "execution_count": 5,
     "metadata": {},
     "output_type": "execute_result"
    }
   ],
   "source": [
    "os.listdir(path)"
   ]
  },
  {
   "cell_type": "code",
   "execution_count": 7,
   "id": "daad9d74",
   "metadata": {},
   "outputs": [
    {
     "name": "stdout",
     "output_type": "stream",
     "text": [
      "C:/Users/SNT/Documents/analyst/alex-the-analyst/python_project/Files/csv_files\n",
      "C:/Users/SNT/Documents/analyst/alex-the-analyst/python_project/Files/txt_files\n",
      "C:/Users/SNT/Documents/analyst/alex-the-analyst/python_project/Files/img_files\n"
     ]
    }
   ],
   "source": [
    "folder_names = ['csv_files', 'txt_files', 'img_files']\n",
    "\n",
    "for folder_index in range(0,3):\n",
    "    if not os.path.exists(path + \"/\" + folder_names[folder_index]):\n",
    "        print(path + \"/\" + folder_names[folder_index])\n",
    "        os.makedirs((path + \"/\" + folder_names[folder_index]))"
   ]
  },
  {
   "cell_type": "code",
   "execution_count": null,
   "id": "a69d3356",
   "metadata": {},
   "outputs": [],
   "source": []
  },
  {
   "cell_type": "code",
   "execution_count": null,
   "id": "e178f1b9",
   "metadata": {},
   "outputs": [],
   "source": []
  },
  {
   "cell_type": "code",
   "execution_count": null,
   "id": "2305c3ef",
   "metadata": {},
   "outputs": [],
   "source": []
  },
  {
   "cell_type": "code",
   "execution_count": null,
   "id": "73d1a597",
   "metadata": {},
   "outputs": [],
   "source": []
  },
  {
   "cell_type": "code",
   "execution_count": null,
   "id": "0f37baef",
   "metadata": {},
   "outputs": [],
   "source": []
  },
  {
   "cell_type": "code",
   "execution_count": null,
   "id": "d69cac9f",
   "metadata": {},
   "outputs": [],
   "source": []
  },
  {
   "cell_type": "code",
   "execution_count": null,
   "id": "261e7fd4",
   "metadata": {},
   "outputs": [],
   "source": []
  },
  {
   "cell_type": "code",
   "execution_count": null,
   "id": "00ee70ba",
   "metadata": {},
   "outputs": [],
   "source": []
  }
 ],
 "metadata": {
  "kernelspec": {
   "display_name": "Python 3 (ipykernel)",
   "language": "python",
   "name": "python3"
  },
  "language_info": {
   "codemirror_mode": {
    "name": "ipython",
    "version": 3
   },
   "file_extension": ".py",
   "mimetype": "text/x-python",
   "name": "python",
   "nbconvert_exporter": "python",
   "pygments_lexer": "ipython3",
   "version": "3.9.13"
  }
 },
 "nbformat": 4,
 "nbformat_minor": 5
}
