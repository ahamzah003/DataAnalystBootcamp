{
 "cells": [
  {
   "cell_type": "code",
   "execution_count": 1,
   "id": "ede8edb9",
   "metadata": {},
   "outputs": [],
   "source": [
    "# imports\n",
    "import os, shutil"
   ]
  },
  {
   "cell_type": "code",
   "execution_count": 2,
   "id": "c4b703a0",
   "metadata": {},
   "outputs": [],
   "source": [
    "# set path\n",
    "path = r\"C:/Users/SNT/Documents/analyst/da-bootcamp/python_projects/Files\""
   ]
  },
  {
   "cell_type": "code",
   "execution_count": 3,
   "id": "5b8ecc0f",
   "metadata": {},
   "outputs": [],
   "source": [
    "file_name = os.listdir(path)"
   ]
  },
  {
   "cell_type": "code",
   "execution_count": 4,
   "id": "e1bf4bf6",
   "metadata": {},
   "outputs": [],
   "source": [
    "# Create new folders\n",
    "folder_names = ['csv_files', 'txt_files', 'img_files']\n",
    "\n",
    "for folder_index in range(0,3):\n",
    "    if not os.path.exists(path + \"/\" + folder_names[folder_index]):\n",
    "        print(path + \"/\" + folder_names[folder_index])\n",
    "        os.makedirs((path + \"/\" + folder_names[folder_index]))"
   ]
  },
  {
   "cell_type": "code",
   "execution_count": 5,
   "id": "831c688e",
   "metadata": {},
   "outputs": [
    {
     "name": "stdout",
     "output_type": "stream",
     "text": [
      "Not all conditions were satisfied, no file moved!\n",
      "Not all conditions were satisfied, no file moved!\n",
      "Not all conditions were satisfied, no file moved!\n",
      "All conditions were satisfied, '.csv' file moved!\n",
      "Not all conditions were satisfied, no file moved!\n",
      "Not all conditions were satisfied, no file moved!\n",
      "Not all conditions were satisfied, no file moved!\n",
      "Not all conditions were satisfied, no file moved!\n",
      "Not all conditions were satisfied, no file moved!\n",
      "Not all conditions were satisfied, no file moved!\n",
      "All conditions were satisfied, '.txt' file moved!\n",
      "Not all conditions were satisfied, no file moved!\n",
      "Not all conditions were satisfied, no file moved!\n",
      "Not all conditions were satisfied, no file moved!\n",
      "All conditions were satisfied, '.jpeg' file moved!\n",
      "Not all conditions were satisfied, no file moved!\n",
      "Not all conditions were satisfied, no file moved!\n",
      "Not all conditions were satisfied, no file moved!\n"
     ]
    }
   ],
   "source": [
    "# Create nested for loop and if-else statements for automatic file sorting \n",
    "for folder_index in range(0,3):\n",
    "    for file in file_name:\n",
    "        if '.csv' in file and (folder_index == 0) and not os.path.exists(path + \"/\" + folder_names[folder_index] + \"/\" + file):\n",
    "            shutil.move(path + \"/\" + file, path + \"/\" + folder_names[folder_index] + \"/\" + file)\n",
    "            print(\"All conditions were satisfied, '.csv' file moved!\")\n",
    "        elif '.txt' in file and (folder_index == 1) and not os.path.exists(path + \"/\" + folder_names[folder_index] + \"/\" + file):\n",
    "            shutil.move(path + \"/\" + file, path + \"/\" + folder_names[folder_index] + \"/\" + file)\n",
    "            print(\"All conditions were satisfied, '.txt' file moved!\")\n",
    "        elif '.jpeg' in file and (folder_index == 2) and not os.path.exists(path + \"/\" + folder_names[folder_index] + \"/\" + file):\n",
    "            shutil.move(path + \"/\" + file, path + \"/\" + folder_names[folder_index] + \"/\" + file)\n",
    "            print(\"All conditions were satisfied, '.jpeg' file moved!\")\n",
    "        else:\n",
    "            print(\"Not all conditions were satisfied, no file moved!\")\n",
    "\n",
    "        "
   ]
  },
  {
   "cell_type": "code",
   "execution_count": null,
   "id": "9fc5d209",
   "metadata": {},
   "outputs": [],
   "source": []
  },
  {
   "cell_type": "code",
   "execution_count": null,
   "id": "804d34e9",
   "metadata": {},
   "outputs": [],
   "source": []
  },
  {
   "cell_type": "code",
   "execution_count": null,
   "id": "2da7b48a",
   "metadata": {},
   "outputs": [],
   "source": []
  },
  {
   "cell_type": "code",
   "execution_count": null,
   "id": "9324296e",
   "metadata": {},
   "outputs": [],
   "source": []
  },
  {
   "cell_type": "code",
   "execution_count": null,
   "id": "c77b104f",
   "metadata": {},
   "outputs": [],
   "source": []
  },
  {
   "cell_type": "code",
   "execution_count": null,
   "id": "567cf758",
   "metadata": {},
   "outputs": [],
   "source": []
  },
  {
   "cell_type": "code",
   "execution_count": null,
   "id": "39b27a67",
   "metadata": {},
   "outputs": [],
   "source": []
  }
 ],
 "metadata": {
  "kernelspec": {
   "display_name": "Python 3 (ipykernel)",
   "language": "python",
   "name": "python3"
  },
  "language_info": {
   "codemirror_mode": {
    "name": "ipython",
    "version": 3
   },
   "file_extension": ".py",
   "mimetype": "text/x-python",
   "name": "python",
   "nbconvert_exporter": "python",
   "pygments_lexer": "ipython3",
   "version": "3.9.13"
  }
 },
 "nbformat": 4,
 "nbformat_minor": 5
}
