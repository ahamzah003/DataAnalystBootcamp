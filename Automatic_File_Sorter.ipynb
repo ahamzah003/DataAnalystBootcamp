{
 "cells": [
  {
   "cell_type": "code",
   "execution_count": 1,
   "id": "5ce1ee65",
   "metadata": {},
   "outputs": [],
   "source": [
    "# imports\n",
    "import os, shutil"
   ]
  },
  {
   "cell_type": "code",
   "execution_count": 4,
   "id": "cfdadd8b",
   "metadata": {},
   "outputs": [],
   "source": [
    "# set path\n",
    "path = r\"C:/Users/SNT/Documents/analyst/alex-the-analyst/python_project/Files\""
   ]
  },
  {
   "cell_type": "code",
   "execution_count": 8,
   "id": "803ac9dd",
   "metadata": {},
   "outputs": [],
   "source": [
    "file_name = os.listdir(path)"
   ]
  },
  {
   "cell_type": "code",
   "execution_count": 7,
   "id": "5ac84c09",
   "metadata": {},
   "outputs": [
    {
     "name": "stdout",
     "output_type": "stream",
     "text": [
      "C:/Users/SNT/Documents/analyst/alex-the-analyst/python_project/Files/csv_files\n",
      "C:/Users/SNT/Documents/analyst/alex-the-analyst/python_project/Files/txt_files\n",
      "C:/Users/SNT/Documents/analyst/alex-the-analyst/python_project/Files/img_files\n"
     ]
    }
   ],
   "source": [
    "# Create new folders\n",
    "folder_names = ['csv_files', 'txt_files', 'img_files']\n",
    "\n",
    "for folder_index in range(0,3):\n",
    "    if not os.path.exists(path + \"/\" + folder_names[folder_index]):\n",
    "        print(path + \"/\" + folder_names[folder_index])\n",
    "        os.makedirs((path + \"/\" + folder_names[folder_index]))"
   ]
  },
  {
   "cell_type": "code",
   "execution_count": 11,
   "id": "e023bdb8",
   "metadata": {},
   "outputs": [
    {
     "name": "stdout",
     "output_type": "stream",
     "text": [
      "No conditions were satisfied, no file moved!\n",
      "No conditions were satisfied, no file moved!\n",
      "No conditions were satisfied, no file moved!\n",
      "All conditions were satisfied, '.csv' file moved!\n",
      "No conditions were satisfied, no file moved!\n",
      "No conditions were satisfied, no file moved!\n",
      "No conditions were satisfied, no file moved!\n",
      "No conditions were satisfied, no file moved!\n",
      "No conditions were satisfied, no file moved!\n",
      "No conditions were satisfied, no file moved!\n",
      "No conditions were satisfied, no file moved!\n",
      "All conditions were satisfied, '.txt' file moved!\n",
      "No conditions were satisfied, no file moved!\n",
      "No conditions were satisfied, no file moved!\n",
      "No conditions were satisfied, no file moved!\n",
      "No conditions were satisfied, no file moved!\n",
      "All conditions were satisfied, '.jpeg' or '.jpg' file moved!\n",
      "No conditions were satisfied, no file moved!\n",
      "No conditions were satisfied, no file moved!\n",
      "No conditions were satisfied, no file moved!\n",
      "No conditions were satisfied, no file moved!\n"
     ]
    }
   ],
   "source": [
    "# Create nested for loop and if-else statements for automatic file sorting \n",
    "for folder_index in range(0,3):\n",
    "    for file in file_name:\n",
    "        if '.csv' in file and (folder_index == 0) and not os.path.exists(path + \"/\" + folder_names[folder_index] + \"/\" + file):\n",
    "            shutil.move(path + \"/\" + file, path + \"/\" + folder_names[folder_index] + \"/\" + file)\n",
    "            print(\"All conditions were satisfied, '.csv' file moved!\")\n",
    "        elif '.txt' in file and (folder_index == 1) and not os.path.exists(path + \"/\" + folder_names[folder_index] + \"/\" + file):\n",
    "            shutil.move(path + \"/\" + file, path + \"/\" + folder_names[folder_index] + \"/\" + file)\n",
    "            print(\"All conditions were satisfied, '.txt' file moved!\")\n",
    "        elif '.jpeg' in file and (folder_index == 2) and not os.path.exists(path + \"/\" + folder_names[folder_index] + \"/\" + file):\n",
    "            shutil.move(path + \"/\" + file, path + \"/\" + folder_names[folder_index] + \"/\" + file)\n",
    "            print(\"All conditions were satisfied, '.jpeg' file moved!\")\n",
    "        else:\n",
    "            print(\"Not all conditions were satisfied, no file moved!\")\n",
    "\n",
    "        "
   ]
  },
  {
   "cell_type": "code",
   "execution_count": null,
   "id": "1f11c0e7",
   "metadata": {},
   "outputs": [],
   "source": []
  },
  {
   "cell_type": "code",
   "execution_count": null,
   "id": "71fc14e1",
   "metadata": {},
   "outputs": [],
   "source": []
  },
  {
   "cell_type": "code",
   "execution_count": null,
   "id": "3d9caef9",
   "metadata": {},
   "outputs": [],
   "source": []
  },
  {
   "cell_type": "code",
   "execution_count": null,
   "id": "dcfb4a3c",
   "metadata": {},
   "outputs": [],
   "source": []
  },
  {
   "cell_type": "code",
   "execution_count": null,
   "id": "06ab3c7a",
   "metadata": {},
   "outputs": [],
   "source": []
  },
  {
   "cell_type": "code",
   "execution_count": null,
   "id": "536755ab",
   "metadata": {},
   "outputs": [],
   "source": []
  },
  {
   "cell_type": "code",
   "execution_count": null,
   "id": "ba5dc2a9",
   "metadata": {},
   "outputs": [],
   "source": []
  }
 ],
 "metadata": {
  "kernelspec": {
   "display_name": "Python 3 (ipykernel)",
   "language": "python",
   "name": "python3"
  },
  "language_info": {
   "codemirror_mode": {
    "name": "ipython",
    "version": 3
   },
   "file_extension": ".py",
   "mimetype": "text/x-python",
   "name": "python",
   "nbconvert_exporter": "python",
   "pygments_lexer": "ipython3",
   "version": "3.9.13"
  }
 },
 "nbformat": 4,
 "nbformat_minor": 5
}
