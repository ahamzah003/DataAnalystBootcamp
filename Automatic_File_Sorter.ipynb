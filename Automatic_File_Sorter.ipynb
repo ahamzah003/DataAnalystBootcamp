{
 "cells": [
  {
   "cell_type": "code",
   "execution_count": 1,
   "id": "01246caf",
   "metadata": {},
   "outputs": [],
   "source": [
    "# imports\n",
    "import os, shutil"
   ]
  },
  {
   "cell_type": "code",
   "execution_count": 2,
   "id": "0f00548c",
   "metadata": {},
   "outputs": [],
   "source": [
    "# set path\n",
    "path = r\"C:\\Users\\SNT\\Documents\\analyst\\alex-the-analyst\\python_project\\Files\""
   ]
  },
  {
   "cell_type": "code",
   "execution_count": 3,
   "id": "96dee21f",
   "metadata": {},
   "outputs": [
    {
     "data": {
      "text/plain": [
       "['data-center-room-with-abstract-data-servers-glowing-led-indicators.jpg',\n",
       " 'if BMI  0.txt',\n",
       " 'layoff.jpeg',\n",
       " 'layoffs.csv']"
      ]
     },
     "execution_count": 3,
     "metadata": {},
     "output_type": "execute_result"
    }
   ],
   "source": [
    "os.listdir(path)"
   ]
  },
  {
   "cell_type": "code",
   "execution_count": null,
   "id": "b0949fa0",
   "metadata": {},
   "outputs": [],
   "source": [
    "folder_names = ['csv_files', 'txt_files', 'img_files']\n",
    "\n",
    "for folder_index in range(0,3):\n",
    "    if not os.path.exists(path + \"/\" + folder_names[folder_index]):\n",
    "        os.makedirs((path + folder_names[folder_index]))"
   ]
  },
  {
   "cell_type": "code",
   "execution_count": null,
   "id": "926b662e",
   "metadata": {},
   "outputs": [],
   "source": []
  },
  {
   "cell_type": "code",
   "execution_count": null,
   "id": "946b3497",
   "metadata": {},
   "outputs": [],
   "source": []
  },
  {
   "cell_type": "code",
   "execution_count": null,
   "id": "92b44d2c",
   "metadata": {},
   "outputs": [],
   "source": []
  },
  {
   "cell_type": "code",
   "execution_count": null,
   "id": "72cfb180",
   "metadata": {},
   "outputs": [],
   "source": []
  },
  {
   "cell_type": "code",
   "execution_count": null,
   "id": "5d7704a6",
   "metadata": {},
   "outputs": [],
   "source": []
  },
  {
   "cell_type": "code",
   "execution_count": null,
   "id": "5561918a",
   "metadata": {},
   "outputs": [],
   "source": []
  },
  {
   "cell_type": "code",
   "execution_count": null,
   "id": "3d580836",
   "metadata": {},
   "outputs": [],
   "source": []
  },
  {
   "cell_type": "code",
   "execution_count": null,
   "id": "9d75fa13",
   "metadata": {},
   "outputs": [],
   "source": []
  }
 ],
 "metadata": {
  "kernelspec": {
   "display_name": "Python 3 (ipykernel)",
   "language": "python",
   "name": "python3"
  },
  "language_info": {
   "codemirror_mode": {
    "name": "ipython",
    "version": 3
   },
   "file_extension": ".py",
   "mimetype": "text/x-python",
   "name": "python",
   "nbconvert_exporter": "python",
   "pygments_lexer": "ipython3",
   "version": "3.9.13"
  }
 },
 "nbformat": 4,
 "nbformat_minor": 5
}
